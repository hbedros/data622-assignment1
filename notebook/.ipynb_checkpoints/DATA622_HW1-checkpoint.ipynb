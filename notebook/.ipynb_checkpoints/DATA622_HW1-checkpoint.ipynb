{
 "cells": [
  {
   "cell_type": "code",
   "execution_count": null,
   "id": "ef6a12fa-6e99-4c88-a89d-319aa1595b95",
   "metadata": {},
   "outputs": [],
   "source": [
    "# DATA 622 - Assignment 1"
   ]
  },
  {
   "cell_type": "code",
   "execution_count": null,
   "id": "4555b7aa-edc1-46e4-b5c7-ea913ddc908d",
   "metadata": {},
   "outputs": [],
   "source": []
  }
 ],
 "metadata": {
  "kernelspec": {
   "display_name": "Python 3 (ipykernel)",
   "language": "python",
   "name": "python3"
  },
  "language_info": {
   "codemirror_mode": {
    "name": "ipython",
    "version": 3
   },
   "file_extension": ".py",
   "mimetype": "text/x-python",
   "name": "python",
   "nbconvert_exporter": "python",
   "pygments_lexer": "ipython3",
   "version": "3.11.7"
  }
 },
 "nbformat": 4,
 "nbformat_minor": 5
}
