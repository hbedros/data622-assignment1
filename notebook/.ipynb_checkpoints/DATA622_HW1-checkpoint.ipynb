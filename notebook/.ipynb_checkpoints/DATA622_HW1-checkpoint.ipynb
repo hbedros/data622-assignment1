{
 "cells": [
  {
   "cell_type": "code",
   "execution_count": null,
   "id": "ef6a12fa-6e99-4c88-a89d-319aa1595b95",
   "metadata": {},
   "outputs": [],
   "source": [
    "# DATA 622 - Assignment"
   ]
  },
  {
   "cell_type": "code",
   "execution_count": 3,
   "id": "4555b7aa-edc1-46e4-b5c7-ea913ddc908d",
   "metadata": {},
   "outputs": [
    {
     "name": "stdout",
     "output_type": "stream",
     "text": [
      "   Hours_Studied  Attendance Parental_Involvement Access_to_Resources  \\\n",
      "0             23          84                  Low                High   \n",
      "1             19          64                  Low              Medium   \n",
      "2             24          98               Medium              Medium   \n",
      "3             29          89                  Low              Medium   \n",
      "4             19          92               Medium              Medium   \n",
      "\n",
      "  Extracurricular_Activities  Sleep_Hours  Previous_Scores Motivation_Level  \\\n",
      "0                         No            7               73              Low   \n",
      "1                         No            8               59              Low   \n",
      "2                        Yes            7               91           Medium   \n",
      "3                        Yes            8               98           Medium   \n",
      "4                        Yes            6               65           Medium   \n",
      "\n",
      "  Internet_Access  Tutoring_Sessions Family_Income Teacher_Quality  \\\n",
      "0             Yes                  0           Low          Medium   \n",
      "1             Yes                  2        Medium          Medium   \n",
      "2             Yes                  2        Medium          Medium   \n",
      "3             Yes                  1        Medium          Medium   \n",
      "4             Yes                  3        Medium            High   \n",
      "\n",
      "  School_Type Peer_Influence  Physical_Activity Learning_Disabilities  \\\n",
      "0      Public       Positive                  3                    No   \n",
      "1      Public       Negative                  4                    No   \n",
      "2      Public        Neutral                  4                    No   \n",
      "3      Public       Negative                  4                    No   \n",
      "4      Public        Neutral                  4                    No   \n",
      "\n",
      "  Parental_Education_Level Distance_from_Home  Gender  Exam_Score  \n",
      "0              High School               Near    Male          67  \n",
      "1                  College           Moderate  Female          61  \n",
      "2             Postgraduate               Near    Male          74  \n",
      "3              High School           Moderate    Male          71  \n",
      "4                  College               Near  Female          70  \n"
     ]
    }
   ],
   "source": [
    "import pandas as pd\n",
    "import matplotlib as plt\n",
    "import seaborn as sns\n",
    "\n",
    "# loading both dataset\n",
    "dataset1_url = \"https://raw.githubusercontent.com/hbedros/data622-assignment1/refs/heads/main/data/dataset-1.csv\"\n",
    "dataset2_url = \"https://raw.githubusercontent.com/hbedros/data622-assignment1/refs/heads/main/data/dataset-2.csv\"\n",
    "\n",
    "dataset1 = pd.read_csv(dataset1_url)\n",
    "dataset2 = pd.read_csv(dataset2_url)\n",
    "\n",
    "print(dataset1.head())\n",
    "print(dataset2.head())\n"
   ]
  },
  {
   "cell_type": "markdown",
   "id": "7243e561",
   "metadata": {},
   "source": [
    "### Overview of the Datasets\n",
    "\n",
    "We have two datasets to work with:\n",
    "\n",
    "1. **Dataset 1 (dataset1.csv)**:\n",
    "   - This one has a bunch of columns about students, like how many hours they studied, their attendance, and stuff like that.\n",
    "   - It also includes some categories, like whether they had access to resources or if they were involved in extracurricular activities.\n",
    "   - Overall, it gives a good picture of their backgrounds and behaviors.\n",
    "\n",
    "2. **Dataset 2 (dataset2.csv)**:\n",
    "   - This dataset focuses on the actual scores: Math, Reading, Writing, and a Placement Score.\n",
    "   - It’s more about the outcomes of their studies.\n",
    "\n",
    "### Similarities and Differences\n",
    "\n",
    "**Similarities**:\n",
    "- Both datasets deal with students and their academic stuff.\n",
    "- They relate to how students perform in school, which is super relevant for the analysis.\n",
    "\n",
    "**Differences**:\n",
    "- Dataset 1 has a lot more details about students' experiences and environments.\n",
    "- Dataset 2 is mainly about their scores, so it’s smaller and focused just on performance.\n",
    "\n",
    "### Analyzing the Data\n",
    "\n",
    "For the analysis, we can aim to predict how well students will do (like their scores) based on the info in Dataset 1. \n",
    "\n",
    "### Which Algorithms to Use\n",
    "\n",
    "Here are a couple of machine learning algorithms that could work well:\n",
    "\n",
    "1. **Linear Regression**:\n",
    "   - This is good for predicting scores since it looks at relationships between things (like how study hours might affect scores).\n",
    "\n",
    "2. **Random Forest Regression**:\n",
    "   - This one’s a bit more complex and can handle a mix of numbers and categories. It's great if we think there might be non-linear relationships between the factors."
   ]
  },
  {
   "cell_type": "markdown",
   "id": "5650de36-c4da-453b-86cc-1b02e9ac304b",
   "metadata": {},
   "source": [
    "### Exploratory Analysis Report\n",
    "\n",
    "## Matt's Role - Large Dataset"
   ]
  },
  {
   "cell_type": "code",
   "execution_count": null,
   "id": "a450fe51-24f4-40f6-af5c-c91ff40bac2d",
   "metadata": {},
   "outputs": [],
   "source": [
    "club_join_freq = dataset2['Club_Join_Date'].value_counts()\n",
    "club_join_freq = pd.DataFrame(club_join_freq)\n",
    "club_join_freq = club_join_freq.reset_index()\n",
    "club_join_freq.columns = ['Join Date', 'Frequency']\n",
    "display(club_join_freq)\n"
   ]
  },
  {
   "cell_type": "markdown",
   "id": "493e8765-d9b7-47e6-81fe-1e321568c0ab",
   "metadata": {},
   "source": [
    "The distribution of individuals who joined the club throughout the years is rather equivalent, with the highest frequency of enrollments being in 2019."
   ]
  },
  {
   "cell_type": "code",
   "execution_count": null,
   "id": "5749bede-1afd-473c-8ccd-c5e36c3b0e40",
   "metadata": {},
   "outputs": [],
   "source": [
    "dataset2 = dataset2.sort_values(by = ['Club_Join_Date'])\n",
    "\n",
    "Means = dataset2.groupby(['Club_Join_Date']).agg(['mean'])\n",
    "Means.columns = ['_'.join(col).strip() for col in Means.columns]\n",
    "\n",
    "Means = Means.reset_index()\n",
    "\n",
    "display(Means)\n",
    "\n",
    "fig, ax = plt.subplots(figsize=(15,10))\n",
    "\n",
    "ax.plot(Means['Club_Join_Date'], Means['Math_Score_mean'], label = \"Mean Math Score\")\n",
    "ax.plot(Means['Club_Join_Date'], Means['Writing_Score_mean'], label = \"Mean Writing Score\")\n",
    "ax.plot(Means['Club_Join_Date'], Means['Placement_Score_mean'], label = \"Mean Placement Score\")\n",
    "\n",
    "ax.set_xticks(Means['Club_Join_Date'])\n",
    "\n",
    "plt.xlabel('Time in Years')\n",
    "plt.ylabel('Mean Scores')\n",
    "plt.title('Changes in Mean Scores Over Time')\n",
    "plt.legend(bbox_to_anchor=(1,1), loc = 'center left')\n",
    "plt.tight_layout()\n",
    "\n",
    "plt.show()"
   ]
  },
  {
   "cell_type": "markdown",
   "id": "4a9d6fe9-3f73-4af5-8fdb-fb649ea193ce",
   "metadata": {},
   "source": [
    "We can see that average scores are rather consistent throughout the years and they tend to fluctuate between 79 through 81. Interestingly, writing and placement scores appear to decrease quite a bit in 2021. "
   ]
  },
  {
   "cell_type": "code",
   "execution_count": null,
   "id": "fb419d8b-42be-4804-a4c0-0fc85f5b9349",
   "metadata": {},
   "outputs": [],
   "source": [
    "data_2018 = dataset2[dataset2['Club_Join_Date'] == 2018]\n",
    "\n",
    "data2corr = dataset2.corr(method = 'pearson')\n",
    "\n",
    "print(data2corr)\n",
    "\n",
    "plt.figure(figsize=(8, 6))\n",
    "sns.heatmap(data2corr, annot=True, cmap='coolwarm', fmt='.2f')"
   ]
  },
  {
   "cell_type": "markdown",
   "id": "8b2acc7a-93bc-4ae2-817d-b2112552fc50",
   "metadata": {},
   "source": [
    "The variables present are not particularly correlated with each other, interestingly enough. The strongest relationships seen are between math score and writing score (r = 0.13), as well as club join date and reading date (r = -0.08). However, these relationshiops are rather weak and suggest a high degree of variance across scores and across years."
   ]
  },
  {
   "cell_type": "code",
   "execution_count": null,
   "id": "0382211d-33ff-4752-bbba-dac3de173b44",
   "metadata": {},
   "outputs": [],
   "source": [
    "data_2018 = dataset2[dataset2['Club_Join_Date'] == 2018]\n",
    "plt.scatter(data_2018['Math_Score'], data_2018['Reading_Score'])\n",
    "plt.show"
   ]
  },
  {
   "cell_type": "code",
   "execution_count": null,
   "id": "cd5fb94a-1e45-47c6-96e2-88f866baffe0",
   "metadata": {},
   "outputs": [],
   "source": [
    "g1 = sns.FacetGrid(dataset2, col=\"Club_Join_Date\")\n",
    "g1.map(plt.scatter, 'Math_Score', 'Writing_Score')\n",
    "\n",
    "g2 = sns.FacetGrid(dataset2, col=\"Club_Join_Date\")\n",
    "g2.map(plt.scatter, 'Math_Score', 'Placement_Score')\n",
    "\n",
    "g3 = sns.FacetGrid(dataset2, col=\"Club_Join_Date\")\n",
    "g3.map(plt.scatter, 'Writing_Score', 'Placement_Score')\n",
    "\n",
    "plt.show()\n"
   ]
  },
  {
   "cell_type": "markdown",
   "id": "b55b9dae-4a1d-46d7-beff-a8e0e5b67e19",
   "metadata": {},
   "source": [
    "As we can see, these variables are not correlated, even within the same years."
   ]
  }
 ],
 "metadata": {
  "kernelspec": {
   "display_name": "Python 3 (ipykernel)",
   "language": "python",
   "name": "python3"
  },
  "language_info": {
   "codemirror_mode": {
    "name": "ipython",
    "version": 3
   },
   "file_extension": ".py",
   "mimetype": "text/x-python",
   "name": "python",
   "nbconvert_exporter": "python",
   "pygments_lexer": "ipython3",
   "version": "3.12.1"
  }
 },
 "nbformat": 4,
 "nbformat_minor": 5
}
