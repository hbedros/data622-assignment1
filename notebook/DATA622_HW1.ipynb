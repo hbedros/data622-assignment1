{
 "cells": [
  {
   "cell_type": "code",
   "execution_count": null,
   "id": "ef6a12fa-6e99-4c88-a89d-319aa1595b95",
   "metadata": {},
   "outputs": [],
   "source": [
    "# DATA 622 - Assignment"
   ]
  },
  {
   "cell_type": "code",
   "execution_count": 3,
   "id": "4555b7aa-edc1-46e4-b5c7-ea913ddc908d",
   "metadata": {},
   "outputs": [
    {
     "name": "stdout",
     "output_type": "stream",
     "text": [
      "   Hours_Studied  Attendance Parental_Involvement Access_to_Resources  \\\n",
      "0             23          84                  Low                High   \n",
      "1             19          64                  Low              Medium   \n",
      "2             24          98               Medium              Medium   \n",
      "3             29          89                  Low              Medium   \n",
      "4             19          92               Medium              Medium   \n",
      "\n",
      "  Extracurricular_Activities  Sleep_Hours  Previous_Scores Motivation_Level  \\\n",
      "0                         No            7               73              Low   \n",
      "1                         No            8               59              Low   \n",
      "2                        Yes            7               91           Medium   \n",
      "3                        Yes            8               98           Medium   \n",
      "4                        Yes            6               65           Medium   \n",
      "\n",
      "  Internet_Access  Tutoring_Sessions Family_Income Teacher_Quality  \\\n",
      "0             Yes                  0           Low          Medium   \n",
      "1             Yes                  2        Medium          Medium   \n",
      "2             Yes                  2        Medium          Medium   \n",
      "3             Yes                  1        Medium          Medium   \n",
      "4             Yes                  3        Medium            High   \n",
      "\n",
      "  School_Type Peer_Influence  Physical_Activity Learning_Disabilities  \\\n",
      "0      Public       Positive                  3                    No   \n",
      "1      Public       Negative                  4                    No   \n",
      "2      Public        Neutral                  4                    No   \n",
      "3      Public       Negative                  4                    No   \n",
      "4      Public        Neutral                  4                    No   \n",
      "\n",
      "  Parental_Education_Level Distance_from_Home  Gender  Exam_Score  \n",
      "0              High School               Near    Male          67  \n",
      "1                  College           Moderate  Female          61  \n",
      "2             Postgraduate               Near    Male          74  \n",
      "3              High School           Moderate    Male          71  \n",
      "4                  College               Near  Female          70  \n"
     ]
    }
   ],
   "source": [
    "import pandas as pd\n",
    "\n",
    "# loading both dataset\n",
    "dataset1_url = \"https://raw.githubusercontent.com/hbedros/data622-assignment1/refs/heads/main/data/dataset-1.csv\"\n",
    "dataset2_url = \"https://raw.githubusercontent.com/hbedros/data622-assignment1/refs/heads/main/data/dataset-2.csv\"\n",
    "\n",
    "dataset1 = pd.read_csv(dataset1_url)\n",
    "dataset2 = pd.read_csv(dataset2_url)\n",
    "\n",
    "print(dataset1.head())\n",
    "print(dataset2.head())\n"
   ]
  },
  {
   "cell_type": "markdown",
   "id": "7243e561",
   "metadata": {},
   "source": [
    "### Overview of the Datasets\n",
    "\n",
    "You have two datasets to work with:\n",
    "\n",
    "1. **Dataset 1 (dataset1.csv)**:\n",
    "   - This one has a bunch of columns about students, like how many hours they studied, their attendance, and stuff like that.\n",
    "   - It also includes some categories, like whether they had access to resources or if they were involved in extracurricular activities.\n",
    "   - Overall, it gives a good picture of their backgrounds and behaviors.\n",
    "\n",
    "2. **Dataset 2 (dataset2.csv)**:\n",
    "   - This dataset focuses on the actual scores: Math, Reading, Writing, and a Placement Score.\n",
    "   - It’s more about the outcomes of their studies.\n",
    "\n",
    "### Similarities and Differences\n",
    "\n",
    "**Similarities**:\n",
    "- Both datasets deal with students and their academic stuff.\n",
    "- They relate to how students perform in school, which is super relevant for your analysis.\n",
    "\n",
    "**Differences**:\n",
    "- Dataset 1 has a lot more details about students' experiences and environments.\n",
    "- Dataset 2 is mainly about their scores, so it’s smaller and focused just on performance.\n",
    "\n",
    "### Analyzing the Data\n",
    "\n",
    "For your analysis, you can aim to predict how well students will do (like their scores) based on the info in Dataset 1. \n",
    "\n",
    "### Which Algorithms to Use\n",
    "\n",
    "Here are a couple of machine learning algorithms that could work well:\n",
    "\n",
    "1. **Linear Regression**:\n",
    "   - This is good for predicting scores since it looks at relationships between things (like how study hours might affect scores).\n",
    "\n",
    "2. **Random Forest Regression**:\n",
    "   - This one’s a bit fancier and can handle a mix of numbers and categories. It's great if you think there might be non-linear relationships between the factors."
   ]
  }
 ],
 "metadata": {
  "kernelspec": {
   "display_name": "Python 3 (ipykernel)",
   "language": "python",
   "name": "python3"
  },
  "language_info": {
   "codemirror_mode": {
    "name": "ipython",
    "version": 3
   },
   "file_extension": ".py",
   "mimetype": "text/x-python",
   "name": "python",
   "nbconvert_exporter": "python",
   "pygments_lexer": "ipython3",
   "version": "3.11.7"
  }
 },
 "nbformat": 4,
 "nbformat_minor": 5
}
